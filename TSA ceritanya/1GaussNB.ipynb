{
 "cells": [
  {
   "cell_type": "code",
   "execution_count": 1,
   "metadata": {},
   "outputs": [],
   "source": [
    "#libraries\n",
    "import pandas as pd\n",
    "import numpy as np\n",
    "import matplotlib.pyplot as plt\n",
    "\n",
    "from sklearn.metrics import classification_report\n",
    "from sklearn.metrics import accuracy_score\n",
    "from sklearn.metrics import confusion_matrix\n",
    "from sklearn.naive_bayes import GaussianNB\n",
    "from sklearn.preprocessing import StandardScaler\n",
    "from sklearn.model_selection import train_test_split"
   ]
  },
  {
   "cell_type": "code",
   "execution_count": 2,
   "metadata": {},
   "outputs": [],
   "source": [
    "df=pd.read_csv(\"files/telco_churn_sample.csv\")\n",
    "targetname=[\"churn\", \"aktif\"]"
   ]
  },
  {
   "cell_type": "code",
   "execution_count": 3,
   "metadata": {},
   "outputs": [
    {
     "data": {
      "text/plain": [
       "16"
      ]
     },
     "execution_count": 3,
     "metadata": {},
     "output_type": "execute_result"
    }
   ],
   "source": [
    "len(df.columns)"
   ]
  },
  {
   "cell_type": "code",
   "execution_count": 4,
   "metadata": {},
   "outputs": [],
   "source": [
    "corr = df.corr()\n",
    "\n",
    "goodcor=[]\n",
    "for i in df.columns:\n",
    "    goodcor.append(i) if abs(corr[\"churn\"][i])>0.1 else 0"
   ]
  },
  {
   "cell_type": "code",
   "execution_count": 5,
   "metadata": {},
   "outputs": [],
   "source": [
    "df=df[goodcor]"
   ]
  },
  {
   "cell_type": "code",
   "execution_count": 6,
   "metadata": {},
   "outputs": [
    {
     "data": {
      "text/html": [
       "<div>\n",
       "<style scoped>\n",
       "    .dataframe tbody tr th:only-of-type {\n",
       "        vertical-align: middle;\n",
       "    }\n",
       "\n",
       "    .dataframe tbody tr th {\n",
       "        vertical-align: top;\n",
       "    }\n",
       "\n",
       "    .dataframe thead th {\n",
       "        text-align: right;\n",
       "    }\n",
       "</style>\n",
       "<table border=\"1\" class=\"dataframe\">\n",
       "  <thead>\n",
       "    <tr style=\"text-align: right;\">\n",
       "      <th></th>\n",
       "      <th>los</th>\n",
       "      <th>voice_rev</th>\n",
       "      <th>voice_trx</th>\n",
       "      <th>voice_mou</th>\n",
       "      <th>voice_dou</th>\n",
       "      <th>sms_rev</th>\n",
       "      <th>sms_dou</th>\n",
       "      <th>voice_package_rev</th>\n",
       "      <th>voice_package_trx</th>\n",
       "      <th>voice_package_dou</th>\n",
       "      <th>churn</th>\n",
       "    </tr>\n",
       "  </thead>\n",
       "  <tbody>\n",
       "    <tr>\n",
       "      <th>0</th>\n",
       "      <td>534</td>\n",
       "      <td>5860.0</td>\n",
       "      <td>57</td>\n",
       "      <td>251</td>\n",
       "      <td>7</td>\n",
       "      <td>3465</td>\n",
       "      <td>5</td>\n",
       "      <td>34200</td>\n",
       "      <td>8</td>\n",
       "      <td>6</td>\n",
       "      <td>0</td>\n",
       "    </tr>\n",
       "    <tr>\n",
       "      <th>1</th>\n",
       "      <td>589</td>\n",
       "      <td>0.0</td>\n",
       "      <td>0</td>\n",
       "      <td>0</td>\n",
       "      <td>0</td>\n",
       "      <td>0</td>\n",
       "      <td>0</td>\n",
       "      <td>8350</td>\n",
       "      <td>2</td>\n",
       "      <td>2</td>\n",
       "      <td>1</td>\n",
       "    </tr>\n",
       "    <tr>\n",
       "      <th>2</th>\n",
       "      <td>1223</td>\n",
       "      <td>3744.0</td>\n",
       "      <td>6</td>\n",
       "      <td>5</td>\n",
       "      <td>2</td>\n",
       "      <td>2475</td>\n",
       "      <td>5</td>\n",
       "      <td>8200</td>\n",
       "      <td>2</td>\n",
       "      <td>2</td>\n",
       "      <td>0</td>\n",
       "    </tr>\n",
       "    <tr>\n",
       "      <th>3</th>\n",
       "      <td>1221</td>\n",
       "      <td>231.0</td>\n",
       "      <td>52</td>\n",
       "      <td>188</td>\n",
       "      <td>6</td>\n",
       "      <td>0</td>\n",
       "      <td>2</td>\n",
       "      <td>7950</td>\n",
       "      <td>2</td>\n",
       "      <td>2</td>\n",
       "      <td>0</td>\n",
       "    </tr>\n",
       "    <tr>\n",
       "      <th>4</th>\n",
       "      <td>60</td>\n",
       "      <td>12073.0</td>\n",
       "      <td>36</td>\n",
       "      <td>588</td>\n",
       "      <td>6</td>\n",
       "      <td>2100</td>\n",
       "      <td>5</td>\n",
       "      <td>26600</td>\n",
       "      <td>6</td>\n",
       "      <td>5</td>\n",
       "      <td>1</td>\n",
       "    </tr>\n",
       "  </tbody>\n",
       "</table>\n",
       "</div>"
      ],
      "text/plain": [
       "    los  voice_rev  voice_trx  voice_mou  voice_dou  sms_rev  sms_dou  \\\n",
       "0   534     5860.0         57        251          7     3465        5   \n",
       "1   589        0.0          0          0          0        0        0   \n",
       "2  1223     3744.0          6          5          2     2475        5   \n",
       "3  1221      231.0         52        188          6        0        2   \n",
       "4    60    12073.0         36        588          6     2100        5   \n",
       "\n",
       "   voice_package_rev  voice_package_trx  voice_package_dou  churn  \n",
       "0              34200                  8                  6      0  \n",
       "1               8350                  2                  2      1  \n",
       "2               8200                  2                  2      0  \n",
       "3               7950                  2                  2      0  \n",
       "4              26600                  6                  5      1  "
      ]
     },
     "execution_count": 6,
     "metadata": {},
     "output_type": "execute_result"
    }
   ],
   "source": [
    "df.isna().sum()\n",
    "df.head()"
   ]
  },
  {
   "cell_type": "code",
   "execution_count": 7,
   "metadata": {},
   "outputs": [],
   "source": [
    "feature=df\n",
    "target=df.pop(\"churn\")"
   ]
  },
  {
   "cell_type": "code",
   "execution_count": 8,
   "metadata": {},
   "outputs": [],
   "source": [
    "#scaler\n",
    "scaler=StandardScaler()\n",
    "scaler.fit(feature)\n",
    "scaledfeature=scaler.transform(feature)"
   ]
  },
  {
   "cell_type": "code",
   "execution_count": 9,
   "metadata": {},
   "outputs": [],
   "source": [
    "#train test split\n",
    "train_data, test_data, train_label, test_label = train_test_split(scaledfeature, target, train_size=0.8, random_state=100)"
   ]
  },
  {
   "cell_type": "code",
   "execution_count": 79,
   "metadata": {},
   "outputs": [
    {
     "data": {
      "text/html": [
       "<style>#sk-container-id-4 {color: black;background-color: white;}#sk-container-id-4 pre{padding: 0;}#sk-container-id-4 div.sk-toggleable {background-color: white;}#sk-container-id-4 label.sk-toggleable__label {cursor: pointer;display: block;width: 100%;margin-bottom: 0;padding: 0.3em;box-sizing: border-box;text-align: center;}#sk-container-id-4 label.sk-toggleable__label-arrow:before {content: \"▸\";float: left;margin-right: 0.25em;color: #696969;}#sk-container-id-4 label.sk-toggleable__label-arrow:hover:before {color: black;}#sk-container-id-4 div.sk-estimator:hover label.sk-toggleable__label-arrow:before {color: black;}#sk-container-id-4 div.sk-toggleable__content {max-height: 0;max-width: 0;overflow: hidden;text-align: left;background-color: #f0f8ff;}#sk-container-id-4 div.sk-toggleable__content pre {margin: 0.2em;color: black;border-radius: 0.25em;background-color: #f0f8ff;}#sk-container-id-4 input.sk-toggleable__control:checked~div.sk-toggleable__content {max-height: 200px;max-width: 100%;overflow: auto;}#sk-container-id-4 input.sk-toggleable__control:checked~label.sk-toggleable__label-arrow:before {content: \"▾\";}#sk-container-id-4 div.sk-estimator input.sk-toggleable__control:checked~label.sk-toggleable__label {background-color: #d4ebff;}#sk-container-id-4 div.sk-label input.sk-toggleable__control:checked~label.sk-toggleable__label {background-color: #d4ebff;}#sk-container-id-4 input.sk-hidden--visually {border: 0;clip: rect(1px 1px 1px 1px);clip: rect(1px, 1px, 1px, 1px);height: 1px;margin: -1px;overflow: hidden;padding: 0;position: absolute;width: 1px;}#sk-container-id-4 div.sk-estimator {font-family: monospace;background-color: #f0f8ff;border: 1px dotted black;border-radius: 0.25em;box-sizing: border-box;margin-bottom: 0.5em;}#sk-container-id-4 div.sk-estimator:hover {background-color: #d4ebff;}#sk-container-id-4 div.sk-parallel-item::after {content: \"\";width: 100%;border-bottom: 1px solid gray;flex-grow: 1;}#sk-container-id-4 div.sk-label:hover label.sk-toggleable__label {background-color: #d4ebff;}#sk-container-id-4 div.sk-serial::before {content: \"\";position: absolute;border-left: 1px solid gray;box-sizing: border-box;top: 0;bottom: 0;left: 50%;z-index: 0;}#sk-container-id-4 div.sk-serial {display: flex;flex-direction: column;align-items: center;background-color: white;padding-right: 0.2em;padding-left: 0.2em;position: relative;}#sk-container-id-4 div.sk-item {position: relative;z-index: 1;}#sk-container-id-4 div.sk-parallel {display: flex;align-items: stretch;justify-content: center;background-color: white;position: relative;}#sk-container-id-4 div.sk-item::before, #sk-container-id-4 div.sk-parallel-item::before {content: \"\";position: absolute;border-left: 1px solid gray;box-sizing: border-box;top: 0;bottom: 0;left: 50%;z-index: -1;}#sk-container-id-4 div.sk-parallel-item {display: flex;flex-direction: column;z-index: 1;position: relative;background-color: white;}#sk-container-id-4 div.sk-parallel-item:first-child::after {align-self: flex-end;width: 50%;}#sk-container-id-4 div.sk-parallel-item:last-child::after {align-self: flex-start;width: 50%;}#sk-container-id-4 div.sk-parallel-item:only-child::after {width: 0;}#sk-container-id-4 div.sk-dashed-wrapped {border: 1px dashed gray;margin: 0 0.4em 0.5em 0.4em;box-sizing: border-box;padding-bottom: 0.4em;background-color: white;}#sk-container-id-4 div.sk-label label {font-family: monospace;font-weight: bold;display: inline-block;line-height: 1.2em;}#sk-container-id-4 div.sk-label-container {text-align: center;}#sk-container-id-4 div.sk-container {/* jupyter's `normalize.less` sets `[hidden] { display: none; }` but bootstrap.min.css set `[hidden] { display: none !important; }` so we also need the `!important` here to be able to override the default hidden behavior on the sphinx rendered scikit-learn.org. See: https://github.com/scikit-learn/scikit-learn/issues/21755 */display: inline-block !important;position: relative;}#sk-container-id-4 div.sk-text-repr-fallback {display: none;}</style><div id=\"sk-container-id-4\" class=\"sk-top-container\"><div class=\"sk-text-repr-fallback\"><pre>GaussianNB()</pre><b>In a Jupyter environment, please rerun this cell to show the HTML representation or trust the notebook. <br />On GitHub, the HTML representation is unable to render, please try loading this page with nbviewer.org.</b></div><div class=\"sk-container\" hidden><div class=\"sk-item\"><div class=\"sk-estimator sk-toggleable\"><input class=\"sk-toggleable__control sk-hidden--visually\" id=\"sk-estimator-id-4\" type=\"checkbox\" checked><label for=\"sk-estimator-id-4\" class=\"sk-toggleable__label sk-toggleable__label-arrow\">GaussianNB</label><div class=\"sk-toggleable__content\"><pre>GaussianNB()</pre></div></div></div></div></div>"
      ],
      "text/plain": [
       "GaussianNB()"
      ]
     },
     "execution_count": 79,
     "metadata": {},
     "output_type": "execute_result"
    }
   ],
   "source": [
    "#get model\n",
    "model=GaussianNB()\n",
    "model.fit(train_data, train_label)"
   ]
  },
  {
   "cell_type": "code",
   "execution_count": 80,
   "metadata": {},
   "outputs": [
    {
     "name": "stdout",
     "output_type": "stream",
     "text": [
      "              precision    recall  f1-score   support\n",
      "\n",
      "           0       0.89      0.55      0.68       666\n",
      "           1       0.49      0.87      0.63       334\n",
      "\n",
      "    accuracy                           0.66      1000\n",
      "   macro avg       0.69      0.71      0.65      1000\n",
      "weighted avg       0.76      0.66      0.66      1000\n",
      "\n",
      "Confusion Matrix:\n",
      "[[367 299]\n",
      " [ 45 289]]\n",
      "\n",
      "Score:0.656\n"
     ]
    }
   ],
   "source": [
    "predicted=model.predict(test_data)\n",
    "\n",
    "#metrics\n",
    "print(f'{classification_report(test_label, predicted)}')\n",
    "print(f'Confusion Matrix:\\n{confusion_matrix(test_label, predicted)}')\n",
    "print(f'\\nScore:{accuracy_score(test_label, predicted)}')\n"
   ]
  },
  {
   "cell_type": "code",
   "execution_count": 20,
   "metadata": {},
   "outputs": [],
   "source": [
    "input_shape=train_data.shape[1]\n",
    "output_shape=len(np.unique(target.values))"
   ]
  },
  {
   "cell_type": "code",
   "execution_count": 28,
   "metadata": {},
   "outputs": [],
   "source": [
    "#train test split\n",
    "train_data, test_data, train_label, test_label = train_test_split(feature, target, train_size=0.8, random_state=100)"
   ]
  },
  {
   "cell_type": "code",
   "execution_count": 76,
   "metadata": {},
   "outputs": [],
   "source": [
    "\n",
    "#With DL cuz why not?\n",
    "from tensorflow import keras\n",
    "import tensorflow as tf\n",
    "\n",
    "#idk don't need normalizer\n",
    "Normalizer=keras.layers.Normalization(-1)\n",
    "Normalizer.adapt(train_data)\n",
    "\n",
    "themodel=keras.Sequential([\n",
    "    Normalizer,\n",
    "    keras.layers.Dense(64, \"relu\"),\n",
    "    keras.layers.Dense(128, \"relu\"),\n",
    "    keras.layers.Dense(256, \"relu\"),\n",
    "    keras.layers.Dense(512, \"relu\"),\n",
    "    keras.layers.Dense(output_shape, \"relu\")\n",
    "])\n",
    "\n",
    "themodel.compile(optimizer=\"Adam\", loss=\"mean_absolute_error\", metrics=[\"MSE\"])"
   ]
  },
  {
   "cell_type": "code",
   "execution_count": 77,
   "metadata": {},
   "outputs": [],
   "source": [
    "thecallback=keras.callbacks.TensorBoard()"
   ]
  },
  {
   "cell_type": "code",
   "execution_count": 78,
   "metadata": {},
   "outputs": [
    {
     "name": "stdout",
     "output_type": "stream",
     "text": [
      "Epoch 1/100\n",
      "125/125 [==============================] - 2s 3ms/step - loss: 0.3379 - MSE: 0.3377\n",
      "Epoch 2/100\n",
      "125/125 [==============================] - 0s 3ms/step - loss: 0.3377 - MSE: 0.3377\n",
      "Epoch 3/100\n",
      "125/125 [==============================] - 0s 4ms/step - loss: 0.3377 - MSE: 0.3377\n",
      "Epoch 4/100\n",
      "125/125 [==============================] - 0s 3ms/step - loss: 0.3377 - MSE: 0.3377\n",
      "Epoch 5/100\n",
      "125/125 [==============================] - 0s 3ms/step - loss: 0.3377 - MSE: 0.3377\n",
      "Epoch 6/100\n",
      "125/125 [==============================] - 0s 3ms/step - loss: 0.3377 - MSE: 0.3377\n",
      "Epoch 7/100\n",
      "125/125 [==============================] - 1s 5ms/step - loss: 0.3377 - MSE: 0.3377\n",
      "Epoch 8/100\n",
      "125/125 [==============================] - 0s 3ms/step - loss: 0.3377 - MSE: 0.3377\n",
      "Epoch 9/100\n",
      "125/125 [==============================] - 0s 3ms/step - loss: 0.3377 - MSE: 0.3377\n",
      "Epoch 10/100\n",
      "125/125 [==============================] - 0s 3ms/step - loss: 0.3377 - MSE: 0.3377\n",
      "Epoch 11/100\n",
      "125/125 [==============================] - 0s 3ms/step - loss: 0.3377 - MSE: 0.3377\n",
      "Epoch 12/100\n",
      "125/125 [==============================] - 0s 3ms/step - loss: 0.3377 - MSE: 0.3377\n",
      "Epoch 13/100\n",
      "125/125 [==============================] - 0s 3ms/step - loss: 0.3377 - MSE: 0.3377\n",
      "Epoch 14/100\n",
      "125/125 [==============================] - 0s 3ms/step - loss: 0.3377 - MSE: 0.3377\n",
      "Epoch 15/100\n",
      "125/125 [==============================] - 0s 4ms/step - loss: 0.3377 - MSE: 0.3377\n",
      "Epoch 16/100\n",
      "125/125 [==============================] - 0s 3ms/step - loss: 0.3377 - MSE: 0.3377\n",
      "Epoch 17/100\n",
      "125/125 [==============================] - 0s 3ms/step - loss: 0.3377 - MSE: 0.3377\n",
      "Epoch 18/100\n",
      "125/125 [==============================] - 0s 3ms/step - loss: 0.3377 - MSE: 0.3377\n",
      "Epoch 19/100\n",
      "125/125 [==============================] - 0s 3ms/step - loss: 0.3377 - MSE: 0.3377\n",
      "Epoch 20/100\n",
      "125/125 [==============================] - 0s 3ms/step - loss: 0.3377 - MSE: 0.3377\n",
      "Epoch 21/100\n",
      "125/125 [==============================] - 0s 4ms/step - loss: 0.3377 - MSE: 0.3377\n",
      "Epoch 22/100\n",
      "125/125 [==============================] - 0s 3ms/step - loss: 0.3377 - MSE: 0.3377\n",
      "Epoch 23/100\n",
      "125/125 [==============================] - 0s 3ms/step - loss: 0.3377 - MSE: 0.3377\n",
      "Epoch 24/100\n",
      "125/125 [==============================] - 0s 3ms/step - loss: 0.3377 - MSE: 0.3377\n",
      "Epoch 25/100\n",
      "125/125 [==============================] - 0s 3ms/step - loss: 0.3377 - MSE: 0.3377\n",
      "Epoch 26/100\n",
      "125/125 [==============================] - 0s 3ms/step - loss: 0.3377 - MSE: 0.3377\n",
      "Epoch 27/100\n",
      "125/125 [==============================] - 0s 3ms/step - loss: 0.3377 - MSE: 0.3377\n",
      "Epoch 28/100\n",
      "125/125 [==============================] - 0s 4ms/step - loss: 0.3377 - MSE: 0.3377\n",
      "Epoch 29/100\n",
      "125/125 [==============================] - 0s 3ms/step - loss: 0.3377 - MSE: 0.3377\n",
      "Epoch 30/100\n",
      "125/125 [==============================] - 0s 3ms/step - loss: 0.3377 - MSE: 0.3377\n",
      "Epoch 31/100\n",
      "125/125 [==============================] - 0s 3ms/step - loss: 0.3377 - MSE: 0.3377\n",
      "Epoch 32/100\n",
      "125/125 [==============================] - 0s 3ms/step - loss: 0.3377 - MSE: 0.3377\n",
      "Epoch 33/100\n",
      "125/125 [==============================] - 0s 3ms/step - loss: 0.3377 - MSE: 0.3377\n",
      "Epoch 34/100\n",
      "125/125 [==============================] - 0s 3ms/step - loss: 0.3377 - MSE: 0.3377\n",
      "Epoch 35/100\n",
      "125/125 [==============================] - 0s 3ms/step - loss: 0.3377 - MSE: 0.3377\n",
      "Epoch 36/100\n",
      "125/125 [==============================] - 0s 3ms/step - loss: 0.3377 - MSE: 0.3377\n",
      "Epoch 37/100\n",
      "125/125 [==============================] - 0s 3ms/step - loss: 0.3377 - MSE: 0.3377\n",
      "Epoch 38/100\n",
      "125/125 [==============================] - 0s 3ms/step - loss: 0.3377 - MSE: 0.3377\n",
      "Epoch 39/100\n",
      "125/125 [==============================] - 0s 3ms/step - loss: 0.3377 - MSE: 0.3377\n",
      "Epoch 40/100\n",
      "125/125 [==============================] - 0s 3ms/step - loss: 0.3377 - MSE: 0.3377\n",
      "Epoch 41/100\n",
      "125/125 [==============================] - 0s 3ms/step - loss: 0.3377 - MSE: 0.3377\n",
      "Epoch 42/100\n",
      "125/125 [==============================] - 0s 3ms/step - loss: 0.3377 - MSE: 0.3377\n",
      "Epoch 43/100\n",
      "125/125 [==============================] - 0s 3ms/step - loss: 0.3377 - MSE: 0.3377\n",
      "Epoch 44/100\n",
      "125/125 [==============================] - 0s 3ms/step - loss: 0.3377 - MSE: 0.3377\n",
      "Epoch 45/100\n",
      "125/125 [==============================] - 0s 3ms/step - loss: 0.3377 - MSE: 0.3377\n",
      "Epoch 46/100\n",
      "125/125 [==============================] - 0s 3ms/step - loss: 0.3377 - MSE: 0.3377\n",
      "Epoch 47/100\n",
      "125/125 [==============================] - 0s 3ms/step - loss: 0.3377 - MSE: 0.3377\n",
      "Epoch 48/100\n",
      "125/125 [==============================] - 0s 3ms/step - loss: 0.3377 - MSE: 0.3377\n",
      "Epoch 49/100\n",
      "125/125 [==============================] - 0s 2ms/step - loss: 0.3377 - MSE: 0.3377\n",
      "Epoch 50/100\n",
      "125/125 [==============================] - 0s 3ms/step - loss: 0.3377 - MSE: 0.3377\n",
      "Epoch 51/100\n",
      "125/125 [==============================] - 0s 3ms/step - loss: 0.3377 - MSE: 0.3377\n",
      "Epoch 52/100\n",
      "125/125 [==============================] - 0s 3ms/step - loss: 0.3377 - MSE: 0.3377\n",
      "Epoch 53/100\n",
      "125/125 [==============================] - 0s 3ms/step - loss: 0.3377 - MSE: 0.3377\n",
      "Epoch 54/100\n",
      "125/125 [==============================] - 0s 3ms/step - loss: 0.3377 - MSE: 0.3377\n",
      "Epoch 55/100\n",
      "125/125 [==============================] - 0s 2ms/step - loss: 0.3377 - MSE: 0.3377\n",
      "Epoch 56/100\n",
      "125/125 [==============================] - 0s 2ms/step - loss: 0.3377 - MSE: 0.3377\n",
      "Epoch 57/100\n",
      "125/125 [==============================] - 0s 3ms/step - loss: 0.3377 - MSE: 0.3377\n",
      "Epoch 58/100\n",
      "125/125 [==============================] - 0s 3ms/step - loss: 0.3377 - MSE: 0.3377\n",
      "Epoch 59/100\n",
      "125/125 [==============================] - 0s 3ms/step - loss: 0.3377 - MSE: 0.3377\n",
      "Epoch 60/100\n",
      "125/125 [==============================] - 0s 3ms/step - loss: 0.3377 - MSE: 0.3377\n",
      "Epoch 61/100\n",
      "125/125 [==============================] - 0s 3ms/step - loss: 0.3377 - MSE: 0.3377\n",
      "Epoch 62/100\n",
      "125/125 [==============================] - 0s 3ms/step - loss: 0.3377 - MSE: 0.3377\n",
      "Epoch 63/100\n",
      "125/125 [==============================] - 0s 3ms/step - loss: 0.3377 - MSE: 0.3377\n",
      "Epoch 64/100\n",
      "125/125 [==============================] - 0s 3ms/step - loss: 0.3377 - MSE: 0.3377\n",
      "Epoch 65/100\n",
      "125/125 [==============================] - 0s 2ms/step - loss: 0.3377 - MSE: 0.3377\n",
      "Epoch 66/100\n",
      "125/125 [==============================] - 0s 3ms/step - loss: 0.3377 - MSE: 0.3377\n",
      "Epoch 67/100\n",
      "125/125 [==============================] - 0s 3ms/step - loss: 0.3377 - MSE: 0.3377\n",
      "Epoch 68/100\n",
      "125/125 [==============================] - 0s 3ms/step - loss: 0.3377 - MSE: 0.3377\n",
      "Epoch 69/100\n",
      "125/125 [==============================] - 0s 2ms/step - loss: 0.3377 - MSE: 0.3377\n",
      "Epoch 70/100\n",
      "125/125 [==============================] - 0s 3ms/step - loss: 0.3377 - MSE: 0.3377\n",
      "Epoch 71/100\n",
      "125/125 [==============================] - 0s 3ms/step - loss: 0.3377 - MSE: 0.3377\n",
      "Epoch 72/100\n",
      "125/125 [==============================] - 0s 3ms/step - loss: 0.3377 - MSE: 0.3377\n",
      "Epoch 73/100\n",
      "125/125 [==============================] - 0s 3ms/step - loss: 0.3377 - MSE: 0.3377\n",
      "Epoch 74/100\n",
      "125/125 [==============================] - 0s 3ms/step - loss: 0.3377 - MSE: 0.3377\n",
      "Epoch 75/100\n",
      "125/125 [==============================] - 0s 2ms/step - loss: 0.3377 - MSE: 0.3377\n",
      "Epoch 76/100\n",
      "125/125 [==============================] - 0s 2ms/step - loss: 0.3377 - MSE: 0.3377\n",
      "Epoch 77/100\n",
      "125/125 [==============================] - 0s 3ms/step - loss: 0.3377 - MSE: 0.3377\n",
      "Epoch 78/100\n",
      "125/125 [==============================] - 0s 3ms/step - loss: 0.3377 - MSE: 0.3377\n",
      "Epoch 79/100\n",
      "125/125 [==============================] - 0s 3ms/step - loss: 0.3377 - MSE: 0.3377\n",
      "Epoch 80/100\n",
      "125/125 [==============================] - 0s 3ms/step - loss: 0.3377 - MSE: 0.3377\n",
      "Epoch 81/100\n",
      "125/125 [==============================] - 0s 3ms/step - loss: 0.3377 - MSE: 0.3377\n",
      "Epoch 82/100\n",
      "125/125 [==============================] - 0s 2ms/step - loss: 0.3377 - MSE: 0.3377\n",
      "Epoch 83/100\n",
      "125/125 [==============================] - 0s 3ms/step - loss: 0.3377 - MSE: 0.3377\n",
      "Epoch 84/100\n",
      "125/125 [==============================] - 0s 3ms/step - loss: 0.3377 - MSE: 0.3377\n",
      "Epoch 85/100\n",
      "125/125 [==============================] - 0s 2ms/step - loss: 0.3377 - MSE: 0.3377\n",
      "Epoch 86/100\n",
      "125/125 [==============================] - 0s 2ms/step - loss: 0.3377 - MSE: 0.3377\n",
      "Epoch 87/100\n",
      "125/125 [==============================] - 0s 3ms/step - loss: 0.3377 - MSE: 0.3377\n",
      "Epoch 88/100\n",
      "125/125 [==============================] - 0s 3ms/step - loss: 0.3377 - MSE: 0.3377\n",
      "Epoch 89/100\n",
      "125/125 [==============================] - 0s 2ms/step - loss: 0.3377 - MSE: 0.3377\n",
      "Epoch 90/100\n",
      "125/125 [==============================] - 0s 3ms/step - loss: 0.3377 - MSE: 0.3377\n",
      "Epoch 91/100\n",
      "125/125 [==============================] - 0s 3ms/step - loss: 0.3377 - MSE: 0.3377\n",
      "Epoch 92/100\n",
      "125/125 [==============================] - 0s 3ms/step - loss: 0.3377 - MSE: 0.3377\n",
      "Epoch 93/100\n",
      "125/125 [==============================] - 0s 3ms/step - loss: 0.3377 - MSE: 0.3377\n",
      "Epoch 94/100\n",
      "125/125 [==============================] - 0s 2ms/step - loss: 0.3377 - MSE: 0.3377\n",
      "Epoch 95/100\n",
      "125/125 [==============================] - 0s 3ms/step - loss: 0.3377 - MSE: 0.3377\n",
      "Epoch 96/100\n",
      "125/125 [==============================] - 0s 2ms/step - loss: 0.3377 - MSE: 0.3377\n",
      "Epoch 97/100\n",
      "125/125 [==============================] - 0s 3ms/step - loss: 0.3377 - MSE: 0.3377\n",
      "Epoch 98/100\n",
      "125/125 [==============================] - 0s 3ms/step - loss: 0.3377 - MSE: 0.3377\n",
      "Epoch 99/100\n",
      "125/125 [==============================] - 0s 2ms/step - loss: 0.3377 - MSE: 0.3377\n",
      "Epoch 100/100\n",
      "125/125 [==============================] - 0s 3ms/step - loss: 0.3377 - MSE: 0.3377\n"
     ]
    },
    {
     "data": {
      "text/plain": [
       "<keras.src.callbacks.History at 0x28e813ed490>"
      ]
     },
     "execution_count": 78,
     "metadata": {},
     "output_type": "execute_result"
    }
   ],
   "source": [
    "epoch=100\n",
    "themodel.fit(train_data, train_label, validation_data=train_label.all(), epochs=epoch, callbacks=thecallback)"
   ]
  },
  {
   "cell_type": "code",
   "execution_count": 73,
   "metadata": {},
   "outputs": [
    {
     "name": "stdout",
     "output_type": "stream",
     "text": [
      "32/32 [==============================] - 0s 914us/step\n"
     ]
    }
   ],
   "source": [
    "predicted=themodel.predict(test_data)\n",
    "predicted=[predicted[i,:].argmax() for i in range(len(predicted))]"
   ]
  },
  {
   "cell_type": "code",
   "execution_count": 75,
   "metadata": {},
   "outputs": [
    {
     "data": {
      "text/plain": [
       "0.682"
      ]
     },
     "execution_count": 75,
     "metadata": {},
     "output_type": "execute_result"
    }
   ],
   "source": [
    "accuracy_score(test_label, predicted)"
   ]
  }
 ],
 "metadata": {
  "kernelspec": {
   "display_name": "Python 3",
   "language": "python",
   "name": "python3"
  },
  "language_info": {
   "codemirror_mode": {
    "name": "ipython",
    "version": 3
   },
   "file_extension": ".py",
   "mimetype": "text/x-python",
   "name": "python",
   "nbconvert_exporter": "python",
   "pygments_lexer": "ipython3",
   "version": "3.11.4"
  },
  "orig_nbformat": 4
 },
 "nbformat": 4,
 "nbformat_minor": 2
}
