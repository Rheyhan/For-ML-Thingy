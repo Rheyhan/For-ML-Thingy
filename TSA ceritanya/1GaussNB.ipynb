{
 "cells": [
  {
   "cell_type": "code",
   "execution_count": 2,
   "metadata": {},
   "outputs": [],
   "source": [
    "#libraries\n",
    "import pandas as pd\n",
    "import numpy as np\n",
    "import matplotlib.pyplot as plt\n",
    "\n",
    "from sklearn.metrics import classification_report\n",
    "from sklearn.metrics import accuracy_score\n",
    "from sklearn.metrics import confusion_matrix\n",
    "from sklearn.naive_bayes import GaussianNB\n",
    "from sklearn.preprocessing import StandardScaler\n",
    "from sklearn.model_selection import train_test_split"
   ]
  },
  {
   "cell_type": "code",
   "execution_count": 3,
   "metadata": {},
   "outputs": [],
   "source": [
    "df=pd.read_csv(\"files/telco_churn_sample.csv\")\n",
    "targetname=[\"churn\", \"aktif\"]"
   ]
  },
  {
   "cell_type": "code",
   "execution_count": 4,
   "metadata": {},
   "outputs": [
    {
     "data": {
      "text/plain": [
       "16"
      ]
     },
     "execution_count": 4,
     "metadata": {},
     "output_type": "execute_result"
    }
   ],
   "source": [
    "len(df.columns)"
   ]
  },
  {
   "cell_type": "code",
   "execution_count": 5,
   "metadata": {},
   "outputs": [],
   "source": [
    "corr = df.corr()\n",
    "\n",
    "goodcor=[]\n",
    "for i in df.columns:\n",
    "    goodcor.append(i) if abs(corr[\"churn\"][i])>0.1 else 0"
   ]
  },
  {
   "cell_type": "code",
   "execution_count": 6,
   "metadata": {},
   "outputs": [],
   "source": [
    "df=df[goodcor]"
   ]
  },
  {
   "cell_type": "code",
   "execution_count": 11,
   "metadata": {},
   "outputs": [
    {
     "name": "stdout",
     "output_type": "stream",
     "text": [
      "<class 'pandas.core.frame.DataFrame'>\n",
      "RangeIndex: 5000 entries, 0 to 4999\n",
      "Data columns (total 11 columns):\n",
      " #   Column             Non-Null Count  Dtype  \n",
      "---  ------             --------------  -----  \n",
      " 0   los                5000 non-null   int64  \n",
      " 1   voice_rev          5000 non-null   float64\n",
      " 2   voice_trx          5000 non-null   int64  \n",
      " 3   voice_mou          5000 non-null   int64  \n",
      " 4   voice_dou          5000 non-null   int64  \n",
      " 5   sms_rev            5000 non-null   int64  \n",
      " 6   sms_dou            5000 non-null   int64  \n",
      " 7   voice_package_rev  5000 non-null   int64  \n",
      " 8   voice_package_trx  5000 non-null   int64  \n",
      " 9   voice_package_dou  5000 non-null   int64  \n",
      " 10  churn              5000 non-null   int64  \n",
      "dtypes: float64(1), int64(10)\n",
      "memory usage: 429.8 KB\n"
     ]
    },
    {
     "data": {
      "text/html": [
       "<div>\n",
       "<style scoped>\n",
       "    .dataframe tbody tr th:only-of-type {\n",
       "        vertical-align: middle;\n",
       "    }\n",
       "\n",
       "    .dataframe tbody tr th {\n",
       "        vertical-align: top;\n",
       "    }\n",
       "\n",
       "    .dataframe thead th {\n",
       "        text-align: right;\n",
       "    }\n",
       "</style>\n",
       "<table border=\"1\" class=\"dataframe\">\n",
       "  <thead>\n",
       "    <tr style=\"text-align: right;\">\n",
       "      <th></th>\n",
       "      <th>los</th>\n",
       "      <th>voice_rev</th>\n",
       "      <th>voice_trx</th>\n",
       "      <th>voice_mou</th>\n",
       "      <th>voice_dou</th>\n",
       "      <th>sms_rev</th>\n",
       "      <th>sms_dou</th>\n",
       "      <th>voice_package_rev</th>\n",
       "      <th>voice_package_trx</th>\n",
       "      <th>voice_package_dou</th>\n",
       "      <th>churn</th>\n",
       "    </tr>\n",
       "  </thead>\n",
       "  <tbody>\n",
       "    <tr>\n",
       "      <th>count</th>\n",
       "      <td>5000.000000</td>\n",
       "      <td>5000.000000</td>\n",
       "      <td>5000.000000</td>\n",
       "      <td>5000.000000</td>\n",
       "      <td>5000.000000</td>\n",
       "      <td>5000.00000</td>\n",
       "      <td>5000.000000</td>\n",
       "      <td>5000.000000</td>\n",
       "      <td>5000.000000</td>\n",
       "      <td>5000.00000</td>\n",
       "      <td>5000.000000</td>\n",
       "    </tr>\n",
       "    <tr>\n",
       "      <th>mean</th>\n",
       "      <td>1223.959600</td>\n",
       "      <td>7961.593436</td>\n",
       "      <td>28.565600</td>\n",
       "      <td>117.765400</td>\n",
       "      <td>3.941000</td>\n",
       "      <td>4550.65800</td>\n",
       "      <td>3.914800</td>\n",
       "      <td>12064.802400</td>\n",
       "      <td>3.201000</td>\n",
       "      <td>2.62520</td>\n",
       "      <td>0.337000</td>\n",
       "    </tr>\n",
       "    <tr>\n",
       "      <th>std</th>\n",
       "      <td>978.522977</td>\n",
       "      <td>13940.009989</td>\n",
       "      <td>39.361066</td>\n",
       "      <td>211.786904</td>\n",
       "      <td>2.397221</td>\n",
       "      <td>6907.20604</td>\n",
       "      <td>2.504635</td>\n",
       "      <td>11291.164655</td>\n",
       "      <td>2.875805</td>\n",
       "      <td>1.87676</td>\n",
       "      <td>0.472732</td>\n",
       "    </tr>\n",
       "    <tr>\n",
       "      <th>min</th>\n",
       "      <td>19.000000</td>\n",
       "      <td>0.000000</td>\n",
       "      <td>0.000000</td>\n",
       "      <td>0.000000</td>\n",
       "      <td>0.000000</td>\n",
       "      <td>0.00000</td>\n",
       "      <td>0.000000</td>\n",
       "      <td>0.000000</td>\n",
       "      <td>1.000000</td>\n",
       "      <td>1.00000</td>\n",
       "      <td>0.000000</td>\n",
       "    </tr>\n",
       "    <tr>\n",
       "      <th>25%</th>\n",
       "      <td>341.000000</td>\n",
       "      <td>435.000000</td>\n",
       "      <td>4.000000</td>\n",
       "      <td>4.000000</td>\n",
       "      <td>2.000000</td>\n",
       "      <td>415.00000</td>\n",
       "      <td>2.000000</td>\n",
       "      <td>4350.000000</td>\n",
       "      <td>1.000000</td>\n",
       "      <td>1.00000</td>\n",
       "      <td>0.000000</td>\n",
       "    </tr>\n",
       "    <tr>\n",
       "      <th>50%</th>\n",
       "      <td>956.000000</td>\n",
       "      <td>3663.500000</td>\n",
       "      <td>15.000000</td>\n",
       "      <td>44.000000</td>\n",
       "      <td>4.000000</td>\n",
       "      <td>1980.00000</td>\n",
       "      <td>4.000000</td>\n",
       "      <td>8200.000000</td>\n",
       "      <td>2.000000</td>\n",
       "      <td>2.00000</td>\n",
       "      <td>0.000000</td>\n",
       "    </tr>\n",
       "    <tr>\n",
       "      <th>75%</th>\n",
       "      <td>2097.250000</td>\n",
       "      <td>9954.750000</td>\n",
       "      <td>37.000000</td>\n",
       "      <td>137.000000</td>\n",
       "      <td>6.000000</td>\n",
       "      <td>5746.25000</td>\n",
       "      <td>6.000000</td>\n",
       "      <td>16475.000000</td>\n",
       "      <td>4.000000</td>\n",
       "      <td>4.00000</td>\n",
       "      <td>1.000000</td>\n",
       "    </tr>\n",
       "    <tr>\n",
       "      <th>max</th>\n",
       "      <td>3220.000000</td>\n",
       "      <td>397101.000000</td>\n",
       "      <td>507.000000</td>\n",
       "      <td>3477.000000</td>\n",
       "      <td>7.000000</td>\n",
       "      <td>72430.00000</td>\n",
       "      <td>7.000000</td>\n",
       "      <td>88000.000000</td>\n",
       "      <td>24.000000</td>\n",
       "      <td>7.00000</td>\n",
       "      <td>1.000000</td>\n",
       "    </tr>\n",
       "  </tbody>\n",
       "</table>\n",
       "</div>"
      ],
      "text/plain": [
       "               los      voice_rev    voice_trx    voice_mou    voice_dou  \\\n",
       "count  5000.000000    5000.000000  5000.000000  5000.000000  5000.000000   \n",
       "mean   1223.959600    7961.593436    28.565600   117.765400     3.941000   \n",
       "std     978.522977   13940.009989    39.361066   211.786904     2.397221   \n",
       "min      19.000000       0.000000     0.000000     0.000000     0.000000   \n",
       "25%     341.000000     435.000000     4.000000     4.000000     2.000000   \n",
       "50%     956.000000    3663.500000    15.000000    44.000000     4.000000   \n",
       "75%    2097.250000    9954.750000    37.000000   137.000000     6.000000   \n",
       "max    3220.000000  397101.000000   507.000000  3477.000000     7.000000   \n",
       "\n",
       "           sms_rev      sms_dou  voice_package_rev  voice_package_trx  \\\n",
       "count   5000.00000  5000.000000        5000.000000        5000.000000   \n",
       "mean    4550.65800     3.914800       12064.802400           3.201000   \n",
       "std     6907.20604     2.504635       11291.164655           2.875805   \n",
       "min        0.00000     0.000000           0.000000           1.000000   \n",
       "25%      415.00000     2.000000        4350.000000           1.000000   \n",
       "50%     1980.00000     4.000000        8200.000000           2.000000   \n",
       "75%     5746.25000     6.000000       16475.000000           4.000000   \n",
       "max    72430.00000     7.000000       88000.000000          24.000000   \n",
       "\n",
       "       voice_package_dou        churn  \n",
       "count         5000.00000  5000.000000  \n",
       "mean             2.62520     0.337000  \n",
       "std              1.87676     0.472732  \n",
       "min              1.00000     0.000000  \n",
       "25%              1.00000     0.000000  \n",
       "50%              2.00000     0.000000  \n",
       "75%              4.00000     1.000000  \n",
       "max              7.00000     1.000000  "
      ]
     },
     "execution_count": 11,
     "metadata": {},
     "output_type": "execute_result"
    }
   ],
   "source": [
    "df.isna().sum()\n",
    "df.head()\n",
    "df.info()\n",
    "df.describe()"
   ]
  },
  {
   "cell_type": "code",
   "execution_count": 12,
   "metadata": {},
   "outputs": [],
   "source": [
    "feature=df\n",
    "target=df.pop(\"churn\")"
   ]
  },
  {
   "cell_type": "code",
   "execution_count": 13,
   "metadata": {},
   "outputs": [],
   "source": [
    "#scaler\n",
    "scaler=StandardScaler()\n",
    "scaler.fit(feature)\n",
    "scaledfeature=scaler.transform(feature)"
   ]
  },
  {
   "cell_type": "code",
   "execution_count": 14,
   "metadata": {},
   "outputs": [],
   "source": [
    "#train test split\n",
    "train_data, test_data, train_label, test_label = train_test_split(scaledfeature, target, train_size=0.8, random_state=100)"
   ]
  },
  {
   "cell_type": "code",
   "execution_count": 15,
   "metadata": {},
   "outputs": [
    {
     "data": {
      "text/html": [
       "<style>#sk-container-id-1 {color: black;background-color: white;}#sk-container-id-1 pre{padding: 0;}#sk-container-id-1 div.sk-toggleable {background-color: white;}#sk-container-id-1 label.sk-toggleable__label {cursor: pointer;display: block;width: 100%;margin-bottom: 0;padding: 0.3em;box-sizing: border-box;text-align: center;}#sk-container-id-1 label.sk-toggleable__label-arrow:before {content: \"▸\";float: left;margin-right: 0.25em;color: #696969;}#sk-container-id-1 label.sk-toggleable__label-arrow:hover:before {color: black;}#sk-container-id-1 div.sk-estimator:hover label.sk-toggleable__label-arrow:before {color: black;}#sk-container-id-1 div.sk-toggleable__content {max-height: 0;max-width: 0;overflow: hidden;text-align: left;background-color: #f0f8ff;}#sk-container-id-1 div.sk-toggleable__content pre {margin: 0.2em;color: black;border-radius: 0.25em;background-color: #f0f8ff;}#sk-container-id-1 input.sk-toggleable__control:checked~div.sk-toggleable__content {max-height: 200px;max-width: 100%;overflow: auto;}#sk-container-id-1 input.sk-toggleable__control:checked~label.sk-toggleable__label-arrow:before {content: \"▾\";}#sk-container-id-1 div.sk-estimator input.sk-toggleable__control:checked~label.sk-toggleable__label {background-color: #d4ebff;}#sk-container-id-1 div.sk-label input.sk-toggleable__control:checked~label.sk-toggleable__label {background-color: #d4ebff;}#sk-container-id-1 input.sk-hidden--visually {border: 0;clip: rect(1px 1px 1px 1px);clip: rect(1px, 1px, 1px, 1px);height: 1px;margin: -1px;overflow: hidden;padding: 0;position: absolute;width: 1px;}#sk-container-id-1 div.sk-estimator {font-family: monospace;background-color: #f0f8ff;border: 1px dotted black;border-radius: 0.25em;box-sizing: border-box;margin-bottom: 0.5em;}#sk-container-id-1 div.sk-estimator:hover {background-color: #d4ebff;}#sk-container-id-1 div.sk-parallel-item::after {content: \"\";width: 100%;border-bottom: 1px solid gray;flex-grow: 1;}#sk-container-id-1 div.sk-label:hover label.sk-toggleable__label {background-color: #d4ebff;}#sk-container-id-1 div.sk-serial::before {content: \"\";position: absolute;border-left: 1px solid gray;box-sizing: border-box;top: 0;bottom: 0;left: 50%;z-index: 0;}#sk-container-id-1 div.sk-serial {display: flex;flex-direction: column;align-items: center;background-color: white;padding-right: 0.2em;padding-left: 0.2em;position: relative;}#sk-container-id-1 div.sk-item {position: relative;z-index: 1;}#sk-container-id-1 div.sk-parallel {display: flex;align-items: stretch;justify-content: center;background-color: white;position: relative;}#sk-container-id-1 div.sk-item::before, #sk-container-id-1 div.sk-parallel-item::before {content: \"\";position: absolute;border-left: 1px solid gray;box-sizing: border-box;top: 0;bottom: 0;left: 50%;z-index: -1;}#sk-container-id-1 div.sk-parallel-item {display: flex;flex-direction: column;z-index: 1;position: relative;background-color: white;}#sk-container-id-1 div.sk-parallel-item:first-child::after {align-self: flex-end;width: 50%;}#sk-container-id-1 div.sk-parallel-item:last-child::after {align-self: flex-start;width: 50%;}#sk-container-id-1 div.sk-parallel-item:only-child::after {width: 0;}#sk-container-id-1 div.sk-dashed-wrapped {border: 1px dashed gray;margin: 0 0.4em 0.5em 0.4em;box-sizing: border-box;padding-bottom: 0.4em;background-color: white;}#sk-container-id-1 div.sk-label label {font-family: monospace;font-weight: bold;display: inline-block;line-height: 1.2em;}#sk-container-id-1 div.sk-label-container {text-align: center;}#sk-container-id-1 div.sk-container {/* jupyter's `normalize.less` sets `[hidden] { display: none; }` but bootstrap.min.css set `[hidden] { display: none !important; }` so we also need the `!important` here to be able to override the default hidden behavior on the sphinx rendered scikit-learn.org. See: https://github.com/scikit-learn/scikit-learn/issues/21755 */display: inline-block !important;position: relative;}#sk-container-id-1 div.sk-text-repr-fallback {display: none;}</style><div id=\"sk-container-id-1\" class=\"sk-top-container\"><div class=\"sk-text-repr-fallback\"><pre>GaussianNB()</pre><b>In a Jupyter environment, please rerun this cell to show the HTML representation or trust the notebook. <br />On GitHub, the HTML representation is unable to render, please try loading this page with nbviewer.org.</b></div><div class=\"sk-container\" hidden><div class=\"sk-item\"><div class=\"sk-estimator sk-toggleable\"><input class=\"sk-toggleable__control sk-hidden--visually\" id=\"sk-estimator-id-1\" type=\"checkbox\" checked><label for=\"sk-estimator-id-1\" class=\"sk-toggleable__label sk-toggleable__label-arrow\">GaussianNB</label><div class=\"sk-toggleable__content\"><pre>GaussianNB()</pre></div></div></div></div></div>"
      ],
      "text/plain": [
       "GaussianNB()"
      ]
     },
     "execution_count": 15,
     "metadata": {},
     "output_type": "execute_result"
    }
   ],
   "source": [
    "#get model\n",
    "model=GaussianNB()\n",
    "model.fit(train_data, train_label)"
   ]
  },
  {
   "cell_type": "code",
   "execution_count": 16,
   "metadata": {},
   "outputs": [
    {
     "name": "stdout",
     "output_type": "stream",
     "text": [
      "              precision    recall  f1-score   support\n",
      "\n",
      "           0       0.89      0.55      0.68       666\n",
      "           1       0.49      0.87      0.63       334\n",
      "\n",
      "    accuracy                           0.66      1000\n",
      "   macro avg       0.69      0.71      0.65      1000\n",
      "weighted avg       0.76      0.66      0.66      1000\n",
      "\n",
      "Confusion Matrix:\n",
      "[[367 299]\n",
      " [ 45 289]]\n",
      "\n",
      "Score:0.656\n"
     ]
    }
   ],
   "source": [
    "predicted=model.predict(test_data)\n",
    "\n",
    "#metrics\n",
    "print(f'{classification_report(test_label, predicted)}')\n",
    "print(f'Confusion Matrix:\\n{confusion_matrix(test_label, predicted)}')\n",
    "print(f'\\nScore:{accuracy_score(test_label, predicted)}')\n"
   ]
  },
  {
   "cell_type": "code",
   "execution_count": 18,
   "metadata": {},
   "outputs": [],
   "source": [
    "#With DL cuz why not?\n",
    "%load_ext tensorboard"
   ]
  },
  {
   "cell_type": "code",
   "execution_count": null,
   "metadata": {},
   "outputs": [],
   "source": [
    "from tensorflow import keras\n",
    "import tensorflow as tf"
   ]
  },
  {
   "cell_type": "code",
   "execution_count": 19,
   "metadata": {},
   "outputs": [],
   "source": [
    "input_shape=train_data.shape[1]\n",
    "output_shape=len(np.unique(target.values))"
   ]
  },
  {
   "cell_type": "code",
   "execution_count": 40,
   "metadata": {},
   "outputs": [],
   "source": [
    "#train test split\n",
    "train_data, test_data, train_label, test_label = train_test_split(feature, target, train_size=0.8, random_state=100)\n",
    "\n",
    "#idk too lazy to change into tensor dataset"
   ]
  },
  {
   "cell_type": "code",
   "execution_count": 41,
   "metadata": {},
   "outputs": [],
   "source": [
    "#idk don't need normalizer\n",
    "Normalizer=keras.layers.Normalization(-1)\n",
    "Normalizer.adapt(train_data)\n",
    "\n",
    "themodel=keras.Sequential([\n",
    "    Normalizer,\n",
    "    keras.layers.Dense(64, \"relu\"),\n",
    "    keras.layers.Dense(128, \"relu\"),\n",
    "    keras.layers.Dense(256, \"relu\"),\n",
    "    keras.layers.Dense(512, \"relu\"),\n",
    "    keras.layers.Dense(output_shape, \"relu\")\n",
    "])\n",
    "\n",
    "themodel.compile(optimizer=\"Adam\", loss=\"mean_absolute_error\", metrics=[\"MSE\"])"
   ]
  },
  {
   "cell_type": "code",
   "execution_count": 42,
   "metadata": {},
   "outputs": [],
   "source": [
    "thecallback=keras.callbacks.TensorBoard()"
   ]
  },
  {
   "cell_type": "code",
   "execution_count": 43,
   "metadata": {},
   "outputs": [
    {
     "name": "stdout",
     "output_type": "stream",
     "text": [
      "Epoch 1/100\n",
      "125/125 [==============================] - 2s 3ms/step - loss: 0.3144 - MSE: 0.2803\n",
      "Epoch 2/100\n",
      "125/125 [==============================] - 0s 3ms/step - loss: 0.3076 - MSE: 0.2773\n",
      "Epoch 3/100\n",
      "125/125 [==============================] - 0s 3ms/step - loss: 0.3043 - MSE: 0.2764\n",
      "Epoch 4/100\n",
      "125/125 [==============================] - 0s 3ms/step - loss: 0.3025 - MSE: 0.2784\n",
      "Epoch 5/100\n",
      "125/125 [==============================] - 0s 3ms/step - loss: 0.3017 - MSE: 0.2729\n",
      "Epoch 6/100\n",
      "125/125 [==============================] - 0s 3ms/step - loss: 0.3020 - MSE: 0.2794\n",
      "Epoch 7/100\n",
      "125/125 [==============================] - 0s 3ms/step - loss: 0.2987 - MSE: 0.2803\n",
      "Epoch 8/100\n",
      "125/125 [==============================] - 0s 3ms/step - loss: 0.2969 - MSE: 0.2776\n",
      "Epoch 9/100\n",
      "125/125 [==============================] - 0s 3ms/step - loss: 0.2969 - MSE: 0.2766\n",
      "Epoch 10/100\n",
      "125/125 [==============================] - 0s 3ms/step - loss: 0.2977 - MSE: 0.2795\n",
      "Epoch 11/100\n",
      "125/125 [==============================] - 0s 3ms/step - loss: 0.2953 - MSE: 0.2779\n",
      "Epoch 12/100\n",
      "125/125 [==============================] - 0s 3ms/step - loss: 0.2947 - MSE: 0.2808\n",
      "Epoch 13/100\n",
      "125/125 [==============================] - 0s 4ms/step - loss: 0.2995 - MSE: 0.2762\n",
      "Epoch 14/100\n",
      "125/125 [==============================] - 0s 3ms/step - loss: 0.2942 - MSE: 0.2753\n",
      "Epoch 15/100\n",
      "125/125 [==============================] - 0s 3ms/step - loss: 0.2925 - MSE: 0.2750\n",
      "Epoch 16/100\n",
      "125/125 [==============================] - 0s 3ms/step - loss: 0.2921 - MSE: 0.2759\n",
      "Epoch 17/100\n",
      "125/125 [==============================] - 0s 4ms/step - loss: 0.2917 - MSE: 0.2778\n",
      "Epoch 18/100\n",
      "125/125 [==============================] - 0s 3ms/step - loss: 0.2912 - MSE: 0.2810\n",
      "Epoch 19/100\n",
      "125/125 [==============================] - 0s 3ms/step - loss: 0.2897 - MSE: 0.2801\n",
      "Epoch 20/100\n",
      "125/125 [==============================] - 0s 3ms/step - loss: 0.2887 - MSE: 0.2781\n",
      "Epoch 21/100\n",
      "125/125 [==============================] - 0s 3ms/step - loss: 0.2932 - MSE: 0.2825\n",
      "Epoch 22/100\n",
      "125/125 [==============================] - 0s 3ms/step - loss: 0.2953 - MSE: 0.2827\n",
      "Epoch 23/100\n",
      "125/125 [==============================] - 0s 3ms/step - loss: 0.2896 - MSE: 0.2806\n",
      "Epoch 24/100\n",
      "125/125 [==============================] - 0s 3ms/step - loss: 0.2923 - MSE: 0.2848\n",
      "Epoch 25/100\n",
      "125/125 [==============================] - 0s 4ms/step - loss: 0.2888 - MSE: 0.2822\n",
      "Epoch 26/100\n",
      "125/125 [==============================] - 0s 3ms/step - loss: 0.2987 - MSE: 0.2884\n",
      "Epoch 27/100\n",
      "125/125 [==============================] - 0s 3ms/step - loss: 0.2885 - MSE: 0.2793\n",
      "Epoch 28/100\n",
      "125/125 [==============================] - 0s 4ms/step - loss: 0.2894 - MSE: 0.2806\n",
      "Epoch 29/100\n",
      "125/125 [==============================] - 0s 3ms/step - loss: 0.2879 - MSE: 0.2824\n",
      "Epoch 30/100\n",
      "125/125 [==============================] - 0s 4ms/step - loss: 0.2919 - MSE: 0.2853\n",
      "Epoch 31/100\n",
      "125/125 [==============================] - 0s 4ms/step - loss: 0.2920 - MSE: 0.2850\n",
      "Epoch 32/100\n",
      "125/125 [==============================] - 0s 3ms/step - loss: 0.2975 - MSE: 0.2921\n",
      "Epoch 33/100\n",
      "125/125 [==============================] - 0s 3ms/step - loss: 0.2920 - MSE: 0.2860\n",
      "Epoch 34/100\n",
      "125/125 [==============================] - 0s 3ms/step - loss: 0.2924 - MSE: 0.2829\n",
      "Epoch 35/100\n",
      "125/125 [==============================] - 0s 3ms/step - loss: 0.2903 - MSE: 0.2845\n",
      "Epoch 36/100\n",
      "125/125 [==============================] - 0s 3ms/step - loss: 0.2853 - MSE: 0.2807\n",
      "Epoch 37/100\n",
      "125/125 [==============================] - 0s 4ms/step - loss: 0.2915 - MSE: 0.2825\n",
      "Epoch 38/100\n",
      "125/125 [==============================] - 0s 3ms/step - loss: 0.2873 - MSE: 0.2820\n",
      "Epoch 39/100\n",
      "125/125 [==============================] - 0s 3ms/step - loss: 0.2892 - MSE: 0.2846\n",
      "Epoch 40/100\n",
      "125/125 [==============================] - 0s 3ms/step - loss: 0.2948 - MSE: 0.2908\n",
      "Epoch 41/100\n",
      "125/125 [==============================] - 0s 3ms/step - loss: 0.2933 - MSE: 0.2872\n",
      "Epoch 42/100\n",
      "125/125 [==============================] - 0s 3ms/step - loss: 0.2894 - MSE: 0.2835\n",
      "Epoch 43/100\n",
      "125/125 [==============================] - 0s 3ms/step - loss: 0.2869 - MSE: 0.2804\n",
      "Epoch 44/100\n",
      "125/125 [==============================] - 0s 3ms/step - loss: 0.2885 - MSE: 0.2819\n",
      "Epoch 45/100\n",
      "125/125 [==============================] - 0s 3ms/step - loss: 0.2842 - MSE: 0.2789\n",
      "Epoch 46/100\n",
      "125/125 [==============================] - 0s 3ms/step - loss: 0.2864 - MSE: 0.2816\n",
      "Epoch 47/100\n",
      "125/125 [==============================] - 0s 3ms/step - loss: 0.2881 - MSE: 0.2831\n",
      "Epoch 48/100\n",
      "125/125 [==============================] - 0s 3ms/step - loss: 0.2853 - MSE: 0.2799\n",
      "Epoch 49/100\n",
      "125/125 [==============================] - 0s 3ms/step - loss: 0.2849 - MSE: 0.2802\n",
      "Epoch 50/100\n",
      "125/125 [==============================] - 1s 5ms/step - loss: 0.2835 - MSE: 0.2794\n",
      "Epoch 51/100\n",
      "125/125 [==============================] - 0s 3ms/step - loss: 0.2856 - MSE: 0.2813\n",
      "Epoch 52/100\n",
      "125/125 [==============================] - 0s 3ms/step - loss: 0.2832 - MSE: 0.2796\n",
      "Epoch 53/100\n",
      "125/125 [==============================] - 0s 3ms/step - loss: 0.2833 - MSE: 0.2796\n",
      "Epoch 54/100\n",
      "125/125 [==============================] - 0s 3ms/step - loss: 0.2821 - MSE: 0.2789\n",
      "Epoch 55/100\n",
      "125/125 [==============================] - 1s 5ms/step - loss: 0.2825 - MSE: 0.2783\n",
      "Epoch 56/100\n",
      "125/125 [==============================] - 1s 4ms/step - loss: 0.2871 - MSE: 0.2808\n",
      "Epoch 57/100\n",
      "125/125 [==============================] - 0s 3ms/step - loss: 0.2846 - MSE: 0.2786\n",
      "Epoch 58/100\n",
      "125/125 [==============================] - 0s 3ms/step - loss: 0.2839 - MSE: 0.2801\n",
      "Epoch 59/100\n",
      "125/125 [==============================] - 0s 3ms/step - loss: 0.2855 - MSE: 0.2810\n",
      "Epoch 60/100\n",
      "125/125 [==============================] - 0s 3ms/step - loss: 0.2842 - MSE: 0.2793\n",
      "Epoch 61/100\n",
      "125/125 [==============================] - 0s 3ms/step - loss: 0.2807 - MSE: 0.2766\n",
      "Epoch 62/100\n",
      "125/125 [==============================] - 0s 3ms/step - loss: 0.2867 - MSE: 0.2799\n",
      "Epoch 63/100\n",
      "125/125 [==============================] - 0s 3ms/step - loss: 0.2826 - MSE: 0.2764\n",
      "Epoch 64/100\n",
      "125/125 [==============================] - 0s 3ms/step - loss: 0.2799 - MSE: 0.2763\n",
      "Epoch 65/100\n",
      "125/125 [==============================] - 0s 3ms/step - loss: 0.2775 - MSE: 0.2737\n",
      "Epoch 66/100\n",
      "125/125 [==============================] - 0s 3ms/step - loss: 0.2804 - MSE: 0.2762\n",
      "Epoch 67/100\n",
      "125/125 [==============================] - 0s 3ms/step - loss: 0.2779 - MSE: 0.2739\n",
      "Epoch 68/100\n",
      "125/125 [==============================] - 0s 3ms/step - loss: 0.2801 - MSE: 0.2767\n",
      "Epoch 69/100\n",
      "125/125 [==============================] - 0s 3ms/step - loss: 0.2763 - MSE: 0.2731\n",
      "Epoch 70/100\n",
      "125/125 [==============================] - 0s 3ms/step - loss: 0.2806 - MSE: 0.2775\n",
      "Epoch 71/100\n",
      "125/125 [==============================] - 0s 3ms/step - loss: 0.2786 - MSE: 0.2758\n",
      "Epoch 72/100\n",
      "125/125 [==============================] - 1s 5ms/step - loss: 0.2808 - MSE: 0.2769\n",
      "Epoch 73/100\n",
      "125/125 [==============================] - 0s 3ms/step - loss: 0.2786 - MSE: 0.2750\n",
      "Epoch 74/100\n",
      "125/125 [==============================] - 0s 3ms/step - loss: 0.2803 - MSE: 0.2767\n",
      "Epoch 75/100\n",
      "125/125 [==============================] - 0s 3ms/step - loss: 0.2787 - MSE: 0.2751\n",
      "Epoch 76/100\n",
      "125/125 [==============================] - 0s 3ms/step - loss: 0.2849 - MSE: 0.2812\n",
      "Epoch 77/100\n",
      "125/125 [==============================] - 1s 5ms/step - loss: 0.2803 - MSE: 0.2754\n",
      "Epoch 78/100\n",
      "125/125 [==============================] - 1s 4ms/step - loss: 0.2774 - MSE: 0.2735\n",
      "Epoch 79/100\n",
      "125/125 [==============================] - 1s 5ms/step - loss: 0.2772 - MSE: 0.2736\n",
      "Epoch 80/100\n",
      "125/125 [==============================] - 0s 3ms/step - loss: 0.2781 - MSE: 0.2742\n",
      "Epoch 81/100\n",
      "125/125 [==============================] - 0s 3ms/step - loss: 0.2774 - MSE: 0.2737\n",
      "Epoch 82/100\n",
      "125/125 [==============================] - 0s 3ms/step - loss: 0.2755 - MSE: 0.2721\n",
      "Epoch 83/100\n",
      "125/125 [==============================] - 0s 4ms/step - loss: 0.2800 - MSE: 0.2766\n",
      "Epoch 84/100\n",
      "125/125 [==============================] - 0s 3ms/step - loss: 0.2766 - MSE: 0.2736\n",
      "Epoch 85/100\n",
      "125/125 [==============================] - 0s 3ms/step - loss: 0.2774 - MSE: 0.2745\n",
      "Epoch 86/100\n",
      "125/125 [==============================] - 0s 3ms/step - loss: 0.2763 - MSE: 0.2734\n",
      "Epoch 87/100\n",
      "125/125 [==============================] - 0s 3ms/step - loss: 0.2791 - MSE: 0.2753\n",
      "Epoch 88/100\n",
      "125/125 [==============================] - 0s 3ms/step - loss: 0.2802 - MSE: 0.2758\n",
      "Epoch 89/100\n",
      "125/125 [==============================] - 0s 3ms/step - loss: 0.2810 - MSE: 0.2777\n",
      "Epoch 90/100\n",
      "125/125 [==============================] - 0s 3ms/step - loss: 0.2779 - MSE: 0.2746\n",
      "Epoch 91/100\n",
      "125/125 [==============================] - 0s 3ms/step - loss: 0.2776 - MSE: 0.2741\n",
      "Epoch 92/100\n",
      "125/125 [==============================] - 0s 3ms/step - loss: 0.2751 - MSE: 0.2720\n",
      "Epoch 93/100\n",
      "125/125 [==============================] - 0s 3ms/step - loss: 0.2772 - MSE: 0.2740\n",
      "Epoch 94/100\n",
      "125/125 [==============================] - 0s 4ms/step - loss: 0.2795 - MSE: 0.2763\n",
      "Epoch 95/100\n",
      "125/125 [==============================] - 0s 3ms/step - loss: 0.2785 - MSE: 0.2750\n",
      "Epoch 96/100\n",
      "125/125 [==============================] - 0s 3ms/step - loss: 0.2770 - MSE: 0.2730\n",
      "Epoch 97/100\n",
      "125/125 [==============================] - 0s 3ms/step - loss: 0.2757 - MSE: 0.2724\n",
      "Epoch 98/100\n",
      "125/125 [==============================] - 0s 3ms/step - loss: 0.2794 - MSE: 0.2759\n",
      "Epoch 99/100\n",
      "125/125 [==============================] - 0s 3ms/step - loss: 0.2741 - MSE: 0.2713\n",
      "Epoch 100/100\n",
      "125/125 [==============================] - 0s 3ms/step - loss: 0.2741 - MSE: 0.2710\n"
     ]
    }
   ],
   "source": [
    "epoch=100\n",
    "thehistory=themodel.fit(train_data, train_label, e  pochs=epoch, callbacks=thecallback)"
   ]
  },
  {
   "cell_type": "code",
   "execution_count": 44,
   "metadata": {},
   "outputs": [
    {
     "name": "stdout",
     "output_type": "stream",
     "text": [
      "32/32 [==============================] - 0s 2ms/step\n"
     ]
    }
   ],
   "source": [
    "predicted=themodel.predict(test_data)\n",
    "predicted=[predicted[i,:].argmax() for i in range(len(predicted))]"
   ]
  },
  {
   "cell_type": "code",
   "execution_count": 45,
   "metadata": {},
   "outputs": [
    {
     "data": {
      "text/plain": [
       "0.77"
      ]
     },
     "execution_count": 45,
     "metadata": {},
     "output_type": "execute_result"
    }
   ],
   "source": [
    "accuracy_score(test_label, predicted)"
   ]
  }
 ],
 "metadata": {
  "kernelspec": {
   "display_name": "Python 3",
   "language": "python",
   "name": "python3"
  },
  "language_info": {
   "codemirror_mode": {
    "name": "ipython",
    "version": 3
   },
   "file_extension": ".py",
   "mimetype": "text/x-python",
   "name": "python",
   "nbconvert_exporter": "python",
   "pygments_lexer": "ipython3",
   "version": "3.11.4"
  },
  "orig_nbformat": 4
 },
 "nbformat": 4,
 "nbformat_minor": 2
}
