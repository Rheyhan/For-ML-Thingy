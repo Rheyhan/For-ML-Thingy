{
 "cells": [
  {
   "cell_type": "code",
   "execution_count": 1,
   "metadata": {},
   "outputs": [
    {
     "name": "stdout",
     "output_type": "stream",
     "text": [
      "{0, 1, 2}   |   Total Labels:3\n",
      "Accuracy:   0.96\n",
      "confusion matrix\n",
      "[[50  0  0]\n",
      " [ 0 47  3]\n",
      " [ 0  3 47]]\n",
      "Classification Report\n",
      "              precision    recall  f1-score   support\n",
      "\n",
      "           0       1.00      1.00      1.00        50\n",
      "           1       0.94      0.94      0.94        50\n",
      "           2       0.94      0.94      0.94        50\n",
      "\n",
      "    accuracy                           0.96       150\n",
      "   macro avg       0.96      0.96      0.96       150\n",
      "weighted avg       0.96      0.96      0.96       150\n",
      "\n"
     ]
    }
   ],
   "source": [
    "'''\n",
    "Title's explanotary\n",
    "\n",
    "we gonna use iris datasets fr\n",
    "'''\n",
    "\n",
    "#libraries\n",
    "from sklearn.datasets import load_iris\n",
    "from sklearn.metrics import classification_report\n",
    "from sklearn.metrics import accuracy_score\n",
    "from sklearn.metrics import confusion_matrix\n",
    "from sklearn.naive_bayes import GaussianNB\n",
    "\n",
    "#get data\n",
    "df=load_iris()\n",
    "data=df.data\n",
    "classification=df.target\n",
    "\n",
    "print(f'{set(classification)}   |   Total Labels:{len(set(classification))}')\n",
    "\n",
    "if __name__ == \"__main__\":\n",
    "    #get model\n",
    "    model = GaussianNB()\n",
    "    model.fit(data, classification)\n",
    "    \n",
    "    #prediction\n",
    "    expectedclassification=model.predict(data)\n",
    "    #metrics cuz fuck you\n",
    "    print(f'Accuracy:   {accuracy_score(classification, expectedclassification)}')\n",
    "    print(\"confusion matrix\")\n",
    "    print(confusion_matrix(classification, expectedclassification))\n",
    "    print(\"Classification Report\")\n",
    "    print(classification_report(classification, expectedclassification))"
   ]
  },
  {
   "cell_type": "code",
   "execution_count": 48,
   "metadata": {},
   "outputs": [
    {
     "name": "stdout",
     "output_type": "stream",
     "text": [
      "    Height  Weight\n",
      "0      184    73.0\n",
      "1      149    52.0\n",
      "2      174    63.0\n",
      "3      175    67.0\n",
      "4      183    81.0\n",
      "..     ...     ...\n",
      "95     168    69.0\n",
      "96     156    51.0\n",
      "97     167    40.0\n",
      "98     161    18.0\n",
      "99     167    56.0\n",
      "\n",
      "[100 rows x 2 columns]\n",
      "Accuracy:   0.74\n",
      "confusion matrix\n",
      "[[42  8]\n",
      " [18 32]]\n",
      "Classification Report\n",
      "              precision    recall  f1-score   support\n",
      "\n",
      "      female       0.70      0.84      0.76        50\n",
      "        male       0.80      0.64      0.71        50\n",
      "\n",
      "    accuracy                           0.74       100\n",
      "   macro avg       0.75      0.74      0.74       100\n",
      "weighted avg       0.75      0.74      0.74       100\n",
      "\n",
      "['female']\n"
     ]
    }
   ],
   "source": [
    "import pandas as pd\n",
    "from sklearn.naive_bayes import GaussianNB\n",
    "from sklearn.metrics import accuracy_score\n",
    "from sklearn.metrics import confusion_matrix\n",
    "from sklearn.metrics import classification_report\n",
    "df=pd.read_table(\"Files/People's data.txt\", delimiter=\" \", header=None)\n",
    "df[0]=df[0]+ \" \"+ df[1]\n",
    "del(df[1])\n",
    "df.columns=[\"Name\", \"Height\", \"Weight\", \"Gender\"]\n",
    "\n",
    "if __name__ == \"__main__\":\n",
    "    X=df.iloc[:,1:3].values             #the same as df.iloc[:,[1,2]] cuh\n",
    "    y=df.Gender.values\n",
    "    \n",
    "    model= GaussianNB()\n",
    "    model.fit(X,y)\n",
    "    \n",
    "    predictedy=model.predict(X)\n",
    "    #metrics cuz fuck you\n",
    "    print(f'Accuracy:   {accuracy_score(y, predictedy)}')\n",
    "    print(\"confusion matrix\")\n",
    "    print(confusion_matrix(y, predictedy))\n",
    "    print(\"Classification Report\")\n",
    "    print(classification_report(y, predictedy))\n",
    "    \n",
    "    print(model.predict([[1,2]]))"
   ]
  }
 ],
 "metadata": {
  "kernelspec": {
   "display_name": "Python 3",
   "language": "python",
   "name": "python3"
  },
  "language_info": {
   "codemirror_mode": {
    "name": "ipython",
    "version": 3
   },
   "file_extension": ".py",
   "mimetype": "text/x-python",
   "name": "python",
   "nbconvert_exporter": "python",
   "pygments_lexer": "ipython3",
   "version": "3.11.3"
  },
  "orig_nbformat": 4
 },
 "nbformat": 4,
 "nbformat_minor": 2
}
