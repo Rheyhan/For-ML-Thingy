{
 "cells": [
  {
   "cell_type": "markdown",
   "metadata": {},
   "source": [
    "1st task:\n",
    "\n",
    "Create corpus and the word count vector\n",
    "\n",
    "1. Virginia Woolf: Night and Day\n",
    "2. Samuel Butler: The Way of all Flesh\n",
    "3. Herman Melville: Moby Dick\n",
    "4. David Herbert Lawrence: Sons and Lovers\n",
    "5. Daniel Defoe: The Life and Adventures of Robinson Crusoe\n",
    "6. James Joyce: Ulysses\n",
    "\n",
    "\n",
    "2nd task:\n",
    "\n",
    "Turn the previously calculated 'word count vector' into a dense ndarray representation.\n",
    "\n",
    "\n",
    "3rd task:\n",
    "\n",
    "Let us have another example with a different corpus. The five strings are famous quotes from\n",
    "\n",
    "William Shakespeare\n",
    "W.C. Fields\n",
    "Ronald Reagan\n",
    "John Steinbeck\n",
    "Author unknown\n",
    "\n",
    "Compute the IDF values!\n",
    "\n",
    "quotes = [\"A horse, a horse, my kingdom for a horse!\",\n",
    "          \"Horse sense is the thing a horse has which keeps it from betting on people.\"\n",
    "          \"I’ve often said there is nothing better for the inside of the man, than the outside of the horse.\",\n",
    "          \"A man on a horse is spiritually, as well as physically, bigger then a man on foot.\",\n",
    "          \"No heaven can heaven be, if my horse isn’t there to welcome me.\"]"
   ]
  }
 ],
 "metadata": {
  "kernelspec": {
   "display_name": "Python 3",
   "language": "python",
   "name": "python3"
  },
  "language_info": {
   "codemirror_mode": {
    "name": "ipython",
    "version": 3
   },
   "file_extension": ".py",
   "mimetype": "text/x-python",
   "name": "python",
   "nbconvert_exporter": "python",
   "pygments_lexer": "ipython3",
   "version": "3.11.3"
  },
  "orig_nbformat": 4
 },
 "nbformat": 4,
 "nbformat_minor": 2
}
