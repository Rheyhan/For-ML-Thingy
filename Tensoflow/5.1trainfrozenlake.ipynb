{
 "cells": [
  {
   "cell_type": "code",
   "execution_count": 1,
   "metadata": {},
   "outputs": [
    {
     "ename": "ModuleNotFoundError",
     "evalue": "No module named 'gym'",
     "output_type": "error",
     "traceback": [
      "\u001b[1;31m---------------------------------------------------------------------------\u001b[0m",
      "\u001b[1;31mModuleNotFoundError\u001b[0m                       Traceback (most recent call last)",
      "Cell \u001b[1;32mIn[1], line 1\u001b[0m\n\u001b[1;32m----> 1\u001b[0m \u001b[39mimport\u001b[39;00m \u001b[39mgym\u001b[39;00m\n\u001b[0;32m      2\u001b[0m \u001b[39mimport\u001b[39;00m \u001b[39mnumpy\u001b[39;00m \u001b[39mas\u001b[39;00m \u001b[39mnp\u001b[39;00m\n\u001b[0;32m      3\u001b[0m \u001b[39mimport\u001b[39;00m \u001b[39mtime\u001b[39;00m\n",
      "\u001b[1;31mModuleNotFoundError\u001b[0m: No module named 'gym'"
     ]
    },
    {
     "ename": "",
     "evalue": "",
     "output_type": "error",
     "traceback": [
      "\u001b[1;31mThe Kernel crashed while executing code in the the current cell or a previous cell. Please review the code in the cell(s) to identify a possible cause of the failure. Click <a href='https://aka.ms/vscodeJupyterKernelCrash'>here</a> for more info. View Jupyter <a href='command:jupyter.viewOutput'>log</a> for further details."
     ]
    }
   ],
   "source": [
    "import gym\n",
    "import numpy as np\n",
    "import time\n",
    "import matplotlib.pyplot as plt\n",
    "import tensorflow\n",
    "\n",
    "class thetrain():\n",
    "  def __init__(self):\n",
    "    '''The innit thing!?'''\n",
    "    self.env = gym.make('FrozenLake-v1', render_mode=\"rgb_array\", is_slippery=False)\n",
    "    self.STATES = self.env.observation_space.n                      #size of the\n",
    "    self.ACTIONS = self.env.action_space.n                          #getting possible actions\n",
    "    self.Q = np.zeros((self.STATES, self.ACTIONS))\n",
    "\n",
    "\n",
    "  def startthetrain(self, tries=1000, steps=100, learnin_rate=0.8, gamma = 0.95, epsilon=0.9, render=False):\n",
    "    '''Start the train (explanotary)'''\n",
    "    self.tries=tries\n",
    "    if render:\n",
    "      plt.ion()\n",
    "      figure, ax = plt.subplots(figsize=(10, 8))\n",
    "    \n",
    "    self.rewards = [];self.score=[]\n",
    "    \n",
    "    for episode in range(tries):\n",
    "      state = self.env.reset()[0]\n",
    "      \n",
    "      for _ in range(steps):\n",
    "        if render:\n",
    "          ax.imshow(self.env.render())\n",
    "          ax.text(250,0, f'died: {str(deadcount)}', bbox=dict(facecolor='red', alpha=0.5))\n",
    "          ax.text(250,10, f'win: {str(wincount)}', bbox=dict(facecolor='green', alpha=0.5))\n",
    "          figure.canvas.draw()\n",
    "          figure.canvas.flush_events()\n",
    "          time.sleep(0.02)\n",
    "\n",
    "          action = self.env.action_space.sample() if np.random.uniform(0, 1) < epsilon else np.argmax(self.Q[state, :])     ## use Q table to pick best action based on current values\n",
    "\n",
    "        next_state, reward, done, _, _ = self.env.step(action)\n",
    "\n",
    "        self.Q[state, action] = self.Q[state, action] + learnin_rate * (reward + gamma * np.max(self.Q[next_state, :]) - self.Q[state, action])\n",
    "\n",
    "        state = next_state\n",
    "        \n",
    "        if done:                                                #either dead or get to the finish line\n",
    "          self.rewards.append(reward)\n",
    "          self.score.append(sum(self.rewards)/len(self.rewards))\n",
    "          epsilon -= 0.001\n",
    "          break  # reached goal\n",
    "        \n",
    "  def visualizeresult(self):\n",
    "    plt.plot(np.arange(0,self.tries), self.score, c=\"red\")\n",
    "    plt.xlabel(\"tries\");plt.ylabel(\"score\")\n",
    "    plt.show()\n",
    "          "
   ]
  },
  {
   "cell_type": "code",
   "execution_count": 69,
   "metadata": {},
   "outputs": [],
   "source": [
    "test=thetrain()\n",
    "test.startthetrain(tries=10000, render=False)"
   ]
  },
  {
   "cell_type": "code",
   "execution_count": 70,
   "metadata": {},
   "outputs": [
    {
     "name": "stdout",
     "output_type": "stream",
     "text": [
      "[[0.73509189 0.77378094 0.77378094 0.73509189]\n",
      " [0.73509189 0.         0.81450625 0.77378094]\n",
      " [0.77378094 0.857375   0.77378094 0.81450625]\n",
      " [0.81450625 0.         0.7737809  0.77378093]\n",
      " [0.77378094 0.81450625 0.         0.73509189]\n",
      " [0.         0.         0.         0.        ]\n",
      " [0.         0.9025     0.         0.81450625]\n",
      " [0.         0.         0.         0.        ]\n",
      " [0.81450625 0.         0.857375   0.77378094]\n",
      " [0.81450625 0.9025     0.9025     0.        ]\n",
      " [0.857375   0.95       0.         0.857375  ]\n",
      " [0.         0.         0.         0.        ]\n",
      " [0.         0.         0.         0.        ]\n",
      " [0.         0.9025     0.95       0.857375  ]\n",
      " [0.9025     0.95       1.         0.9025    ]\n",
      " [0.         0.         0.         0.        ]]\n"
     ]
    },
    {
     "data": {
      "text/plain": [
       "0.9517"
      ]
     },
     "execution_count": 70,
     "metadata": {},
     "output_type": "execute_result"
    }
   ],
   "source": [
    "print(test.Q)\n",
    "test.score[-1]"
   ]
  },
  {
   "cell_type": "code",
   "execution_count": 71,
   "metadata": {},
   "outputs": [
    {
     "data": {
      "image/png": "[encoded data removed]",
      "text/plain": [
       "<Figure size 640x480 with 1 Axes>"
      ]
     },
     "metadata": {},
     "output_type": "display_data"
    }
   ],
   "source": [
    "test.visualizeresult()"
   ]
  }
 ],
 "metadata": {
  "kernelspec": {
   "display_name": "Python 3",
   "language": "python",
   "name": "python3"
  },
  "language_info": {
   "codemirror_mode": {
    "name": "ipython",
    "version": 3
   },
   "file_extension": ".py",
   "mimetype": "text/x-python",
   "name": "python",
   "nbconvert_exporter": "python",
   "pygments_lexer": "ipython3",
   "version": "3.10.11"
  },
  "orig_nbformat": 4
 },
 "nbformat": 4,
 "nbformat_minor": 2
}
