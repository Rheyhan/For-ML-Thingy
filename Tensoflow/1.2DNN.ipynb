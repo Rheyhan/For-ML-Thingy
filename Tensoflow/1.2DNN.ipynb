{
 "cells": [
  {
   "cell_type": "code",
   "execution_count": 1,
   "metadata": {},
   "outputs": [
    {
     "data": {
      "text/plain": [
       "'the data earlier was so shit only resulting 0.76666665 on score\\nSo now, we gonna use DNN (DEEP NEURAL NETWORK) to classify instead!\\n'"
      ]
     },
     "execution_count": 1,
     "metadata": {},
     "output_type": "execute_result"
    }
   ],
   "source": [
    "'''the data earlier was so shit only resulting 0.76666665 on score\n",
    "So now, we gonna use DNN (DEEP NEURAL NETWORK) to classify instead!\n",
    "'''"
   ]
  },
  {
   "cell_type": "code",
   "execution_count": 1,
   "metadata": {},
   "outputs": [],
   "source": [
    "#Library\n",
    "from sklearn.datasets import load_iris\n",
    "import pandas as pd\n",
    "import numpy as np\n",
    "import tensorflow as tf\n",
    "from sklearn.model_selection import train_test_split\n",
    "from IPython.display import clear_output"
   ]
  },
  {
   "cell_type": "code",
   "execution_count": 6,
   "metadata": {},
   "outputs": [],
   "source": [
    "data, target=load_iris(return_X_y=True)\n",
    "colnames=load_iris().feature_names\n",
    "colnames=[\"sepallength\", \"sepalwidth\", \"petallength\", \"petalwidth\"]\n",
    "data=pd.DataFrame(data, columns=colnames)\n",
    "#no need to explore i think"
   ]
  },
  {
   "cell_type": "code",
   "execution_count": 8,
   "metadata": {},
   "outputs": [],
   "source": [
    "#preparation\n",
    "    #get feature columns\n",
    "feature_column=[tf.feature_column.numeric_column(i) for i in colnames]\n",
    "\n",
    "    #train test split\n",
    "train_data, test_data, train_target, test_target = train_test_split(data, target, train_size=0.8, random_state=31212)"
   ]
  },
  {
   "cell_type": "code",
   "execution_count": 1,
   "metadata": {},
   "outputs": [
    {
     "ename": "NameError",
     "evalue": "name 'tf' is not defined",
     "output_type": "error",
     "traceback": [
      "\u001b[1;31m---------------------------------------------------------------------------\u001b[0m",
      "\u001b[1;31mNameError\u001b[0m                                 Traceback (most recent call last)",
      "Cell \u001b[1;32mIn[1], line 2\u001b[0m\n\u001b[0;32m      1\u001b[0m \u001b[39m#model of DNN\u001b[39;00m\n\u001b[1;32m----> 2\u001b[0m DNN\u001b[39m=\u001b[39mtf\u001b[39m.\u001b[39mestimator\u001b[39m.\u001b[39mDNNClassifier(n_classes\u001b[39m=\u001b[39mnp\u001b[39m.\u001b[39munique(target)\u001b[39m.\u001b[39msize, feature_columns\u001b[39m=\u001b[39mfeature_column, hidden_units\u001b[39m=\u001b[39m[\u001b[39m30\u001b[39m,\u001b[39m10\u001b[39m])\n\u001b[0;32m      4\u001b[0m \u001b[39m#input_fn\u001b[39;00m\n\u001b[0;32m      5\u001b[0m \u001b[39mdef\u001b[39;00m \u001b[39mget_input_fn\u001b[39m(data, target, batchsize\u001b[39m=\u001b[39m\u001b[39m32\u001b[39m, shuffle\u001b[39m=\u001b[39m\u001b[39mTrue\u001b[39;00m, epochs\u001b[39m=\u001b[39m\u001b[39m10\u001b[39m):\n",
      "\u001b[1;31mNameError\u001b[0m: name 'tf' is not defined"
     ]
    }
   ],
   "source": [
    "#model of DNN\n",
    "DNN=tf.estimator.DNNClassifier(n_classes=np.unique(target).size, feature_columns=feature_column, hidden_units=[30,10])\n",
    "\n",
    "#input_fn\n",
    "def get_input_fn(data, target, batchsize=32, shuffle=True, epochs=10):\n",
    "    def input_fn():\n",
    "        ds=tf.data.Dataset.from_tensor_slices((dict(data), target))\n",
    "        if shuffle:\n",
    "            ds.shuffle(10)\n",
    "        ds=ds.batch(batchsize).repeat(epochs)\n",
    "        return ds\n",
    "    return input_fn\n",
    "\n",
    "train_fn=get_input_fn(train_data, train_target)\n",
    "test_fn=get_input_fn(test_data, test_target, shuffle=False, epochs=1)\n",
    "\n",
    "DNN.train(train_fn)         #yuh python completely removed that shit. Sad"
   ]
  }
 ],
 "metadata": {
  "kernelspec": {
   "display_name": "Python 3",
   "language": "python",
   "name": "python3"
  },
  "language_info": {
   "codemirror_mode": {
    "name": "ipython",
    "version": 3
   },
   "file_extension": ".py",
   "mimetype": "text/x-python",
   "name": "python",
   "nbconvert_exporter": "python",
   "pygments_lexer": "ipython3",
   "version": "3.11.4"
  },
  "orig_nbformat": 4
 },
 "nbformat": 4,
 "nbformat_minor": 2
}
